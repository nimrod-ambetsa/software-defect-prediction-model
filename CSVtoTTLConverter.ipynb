{
 "cells": [
  {
   "cell_type": "code",
   "execution_count": 1,
   "id": "991621b2-e772-4a4f-81c5-51a613b1ab73",
   "metadata": {},
   "outputs": [],
   "source": [
    "import pandas as pd"
   ]
  },
  {
   "cell_type": "code",
   "execution_count": 13,
   "id": "c811739c-abac-4ff4-b580-2562859729c6",
   "metadata": {},
   "outputs": [],
   "source": [
    "csv_file = \"./baseline.csv\"\n",
    "df = pd.read_csv(csv_file)\n",
    "\n",
    "# Define the Turtle file path\n",
    "output_ttl = \"defect_knowledge_graph.ttl\""
   ]
  },
  {
   "cell_type": "code",
   "execution_count": 15,
   "id": "5136df20-4ab3-45c9-9530-4a7521bce0a7",
   "metadata": {},
   "outputs": [
    {
     "name": "stdout",
     "output_type": "stream",
     "text": [
      "Turtle file saved at defect_knowledge_graph.ttl\n"
     ]
    }
   ],
   "source": [
    "# Define prefixes\n",
    "ttl_content = \"\"\"@prefix : <http://example.org/defectKG#> .\n",
    "@prefix rdf: <http://www.w3.org/1999/02/22-rdf-syntax-ns#> .\n",
    "@prefix xsd: <http://www.w3.org/2001/XMLSchema#> .\n",
    "\"\"\"\n",
    "\n",
    "# Iterate through CSV and generate Turtle triples\n",
    "for index, row in df.iterrows():\n",
    "    module_id = f\"CodeModule_{index + 1}\"\n",
    "    defect_id = f\"Defect_{index + 1}\"\n",
    "    prediction_id = f\"DefectPrediction_{index + 1}\"\n",
    "    \n",
    "    # Extract relevant data\n",
    "    loc = row.get(\"LOC\", 0)\n",
    "    complexity = row.get(\"Complexity\", 0)\n",
    "    past_defects = row.get(\"PastDefectCount\", 0)\n",
    "    defect_prob = row.get(\"DefectProbability\", 0.0)\n",
    "    \n",
    "    # Create Turtle triples\n",
    "    ttl_content += f\"\"\"\n",
    "    :{module_id} a :CodeModule ;\n",
    "        :linesOfCode \"{loc}\"^^xsd:integer ;\n",
    "        :complexity \"{complexity}\"^^xsd:integer ;\n",
    "        :pastDefectCount \"{past_defects}\"^^xsd:integer .\n",
    "    \n",
    "    :{defect_id} a :Defect ;\n",
    "        :relatedToModule :{module_id} .\n",
    "    \n",
    "    :{prediction_id} a :DefectPrediction ;\n",
    "        :defectProbability \"{defect_prob}\"^^xsd:float ;\n",
    "        :hasPrediction :{module_id} .\n",
    "    \"\"\"\n",
    "\n",
    "# Save to TTL file\n",
    "with open(output_ttl, \"w\") as file:\n",
    "    file.write(ttl_content)\n",
    "\n",
    "print(f\"Turtle file saved at {output_ttl}\")"
   ]
  },
  {
   "cell_type": "code",
   "execution_count": null,
   "id": "b1057cfa-bcec-4907-8ef7-f1008dcbab82",
   "metadata": {},
   "outputs": [],
   "source": []
  }
 ],
 "metadata": {
  "kernelspec": {
   "display_name": "Python [conda env:base] *",
   "language": "python",
   "name": "conda-base-py"
  },
  "language_info": {
   "codemirror_mode": {
    "name": "ipython",
    "version": 3
   },
   "file_extension": ".py",
   "mimetype": "text/x-python",
   "name": "python",
   "nbconvert_exporter": "python",
   "pygments_lexer": "ipython3",
   "version": "3.12.4"
  }
 },
 "nbformat": 4,
 "nbformat_minor": 5
}
