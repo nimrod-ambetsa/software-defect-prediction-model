{
 "cells": [
  {
   "cell_type": "code",
   "execution_count": 4,
   "id": "991621b2-e772-4a4f-81c5-51a613b1ab73",
   "metadata": {},
   "outputs": [],
   "source": [
    "import pandas as pd"
   ]
  },
  {
   "cell_type": "code",
   "execution_count": 6,
   "id": "c811739c-abac-4ff4-b580-2562859729c6",
   "metadata": {},
   "outputs": [],
   "source": [
    "csv_file = \"./baseline.csv\"\n",
    "df = pd.read_csv(csv_file)\n",
    "\n",
    "# Define the Turtle file path\n",
    "output_ttl = \"defect_knowledge_graph_final.ttl\""
   ]
  },
  {
   "cell_type": "code",
   "execution_count": 8,
   "id": "5136df20-4ab3-45c9-9530-4a7521bce0a7",
   "metadata": {},
   "outputs": [
    {
     "name": "stdout",
     "output_type": "stream",
     "text": [
      "Turtle file saved at defect_knowledge_graph_final.ttl\n"
     ]
    }
   ],
   "source": [
    "# Define prefixes\n",
    "ttl_content = \"\"\"@prefix : <http://example.org/defect-prediction#> .\n",
    "@prefix rdf: <http://www.w3.org/1999/02/22-rdf-syntax-ns#> .\n",
    "@prefix rdfs: <http://www.w3.org/2000/01/rdf-schema#> .\n",
    "@prefix owl: <http://www.w3.org/2002/07/owl#> .\n",
    "@prefix xsd: <http://www.w3.org/2001/XMLSchema#> .\n",
    "\n",
    "<http://example.org/defect-prediction>\n",
    "    rdf:type owl:Ontology ;\n",
    "    rdfs:comment \"Ontology for defect prediction in software modules\" .\n",
    "\"\"\"\n",
    "\n",
    "# Iterate through CSV and generate Turtle triples\n",
    "for index, row in df.iterrows():\n",
    "    module_id = f\"CodeModule_{index + 1}\"\n",
    "    defect_id = f\"Defect_{index + 1}\"\n",
    "    commit_id = f\"Commit_{index + 1}\"\n",
    "    developer_id = f\"Developer_{index + 1}\"\n",
    "\n",
    "    # Extract relevant fields\n",
    "    loc = row.get(\"loc\", 0)\n",
    "    complexity = row.get(\"wmc\", 0)\n",
    "    past_defects = row.get(\"PastDefectCount\", 0)\n",
    "    defect_status = row.get(\"DefectStatus\", \"Open\")  # Default to \"Open\"\n",
    "    defect_severity = row.get(\"DefectSeverity\", \"Medium\")  # Default to \"Medium\"\n",
    "    dependencies = row.get(\"dependencies\", \"None\")\n",
    "    commit_message = row.get(\"commit_message\", \"No message\")\n",
    "    timestamp = row.get(\"timestamp\", \"2024-01-01T00:00:00\")  # Default timestamp\n",
    "    experience_level = row.get(\"experience_level\", 0)\n",
    "\n",
    "    # Create Turtle triples\n",
    "    ttl_content += f\"\"\"\n",
    "    :{module_id} a :CodeModule ;\n",
    "        :linesOfCode \"{loc}\"^^xsd:integer ;\n",
    "        :complexity \"{complexity}\"^^xsd:integer ;\n",
    "        :pastDefectCount \"{past_defects}\"^^xsd:integer ;\n",
    "        :dependencies \"{dependencies}\"^^xsd:string .\n",
    "\n",
    "    :{defect_id} a :Defect ;\n",
    "        :defectID \"{defect_id}\"^^xsd:string ;\n",
    "        :severity \"{defect_severity}\"^^xsd:string ;\n",
    "        :status \"{defect_status}\"^^xsd:string ;\n",
    "        :hasDefect :{module_id} .\n",
    "\n",
    "    :{commit_id} a :Commit ;\n",
    "        :commitID \"{commit_id}\"^^xsd:string ;\n",
    "        :commitMessage \"{commit_message}\"^^xsd:string ;\n",
    "        :timestamp \"{timestamp}\"^^xsd:dateTime ;\n",
    "        :modifies :{module_id} .\n",
    "\n",
    "    :{developer_id} a :Developer ;\n",
    "        :developerID \"{developer_id}\"^^xsd:string ;\n",
    "        :experienceLevel \"{experience_level}\"^^xsd:integer ;\n",
    "        :commits :{commit_id} .\n",
    "    \"\"\"\n",
    "\n",
    "# Save to TTL file\n",
    "with open(output_ttl, \"w\") as file:\n",
    "    file.write(ttl_content)\n",
    "\n",
    "print(f\"Turtle file saved at {output_ttl}\")"
   ]
  },
  {
   "cell_type": "code",
   "execution_count": null,
   "id": "b1057cfa-bcec-4907-8ef7-f1008dcbab82",
   "metadata": {},
   "outputs": [],
   "source": []
  }
 ],
 "metadata": {
  "kernelspec": {
   "display_name": "Python [conda env:base] *",
   "language": "python",
   "name": "conda-base-py"
  },
  "language_info": {
   "codemirror_mode": {
    "name": "ipython",
    "version": 3
   },
   "file_extension": ".py",
   "mimetype": "text/x-python",
   "name": "python",
   "nbconvert_exporter": "python",
   "pygments_lexer": "ipython3",
   "version": "3.12.4"
  }
 },
 "nbformat": 4,
 "nbformat_minor": 5
}
