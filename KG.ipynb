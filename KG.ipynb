{
 "cells": [
  {
   "cell_type": "code",
   "execution_count": 1,
   "id": "e421f371-e259-4c6d-bc18-b031eed6a773",
   "metadata": {},
   "outputs": [],
   "source": [
    "from rdflib import Graph"
   ]
  },
  {
   "cell_type": "code",
   "execution_count": 3,
   "id": "a0c5b699-89d2-4686-9bc7-051e8b1b63df",
   "metadata": {},
   "outputs": [
    {
     "data": {
      "text/plain": [
       "<Graph identifier=N0b205a801afc49229e729fa506559590 (<class 'rdflib.graph.Graph'>)>"
      ]
     },
     "execution_count": 3,
     "metadata": {},
     "output_type": "execute_result"
    }
   ],
   "source": [
    "g = Graph()\n",
    "g.parse(\"defect_knowledge_graph.ttl\", format=\"turtle\")"
   ]
  },
  {
   "cell_type": "code",
   "execution_count": 5,
   "id": "00d47f74-4116-4228-be1b-8660cc615c7e",
   "metadata": {},
   "outputs": [],
   "source": [
    "query = \"\"\"\n",
    "PREFIX ex: <http://example.org/ontology#>  \n",
    "SELECT ?module ?loc ?complexity ?defectProbability  \n",
    "WHERE {\n",
    "    ?module a ex:CodeModule ;\n",
    "            ex:linesOfCode ?loc ;\n",
    "            ex:complexity ?complexity ;\n",
    "            ex:defectProbability ?defectProbability .\n",
    "}\n",
    "\"\"\"\n",
    "results = g.query(query)"
   ]
  },
  {
   "cell_type": "code",
   "execution_count": 7,
   "id": "6cb79c5c-c8c4-46e9-85f0-7c4327ffd0cd",
   "metadata": {},
   "outputs": [],
   "source": [
    "import pandas as pd"
   ]
  },
  {
   "cell_type": "code",
   "execution_count": 9,
   "id": "58d604e3-142a-453f-b697-9ba6fc46a265",
   "metadata": {},
   "outputs": [],
   "source": [
    "data = [(str(row.module), float(row.loc), float(row.complexity), float(row.defectProbability)) for row in results]\n",
    "df = pd.DataFrame(data, columns=[\"Module\", \"LOC\", \"Complexity\", \"DefectProbability\"])"
   ]
  },
  {
   "cell_type": "code",
   "execution_count": 11,
   "id": "4d03f4e2-53b5-4903-bb04-d7a5de7da3c5",
   "metadata": {},
   "outputs": [
    {
     "name": "stdout",
     "output_type": "stream",
     "text": [
      "Empty DataFrame\n",
      "Columns: [Module, LOC, Complexity, DefectProbability]\n",
      "Index: []\n"
     ]
    }
   ],
   "source": [
    "print(df.head())"
   ]
  },
  {
   "cell_type": "code",
   "execution_count": null,
   "id": "30afffd7-9606-4a12-b842-b93866705a64",
   "metadata": {},
   "outputs": [],
   "source": []
  }
 ],
 "metadata": {
  "kernelspec": {
   "display_name": "Python [conda env:base] *",
   "language": "python",
   "name": "conda-base-py"
  },
  "language_info": {
   "codemirror_mode": {
    "name": "ipython",
    "version": 3
   },
   "file_extension": ".py",
   "mimetype": "text/x-python",
   "name": "python",
   "nbconvert_exporter": "python",
   "pygments_lexer": "ipython3",
   "version": "3.12.4"
  }
 },
 "nbformat": 4,
 "nbformat_minor": 5
}
